{
 "cells": [
  {
   "cell_type": "code",
   "execution_count": 10,
   "id": "ee8c56c2-dea2-41aa-8e3f-362b903dc0e8",
   "metadata": {},
   "outputs": [],
   "source": [
    "from diffusion.eegwave import *\n",
    "v_eegwave = EEGWave()\n",
    "b_eegwave = EEGWave(n_class=4,n_subject=9,E=25)"
   ]
  },
  {
   "cell_type": "code",
   "execution_count": 1,
   "id": "575e6299-9765-470f-9b42-82f6ad4c4534",
   "metadata": {},
   "outputs": [],
   "source": [
    "from data.utils import *\n",
    "vds = VepessDataset(2)\n",
    "bds = BCICIV2aDataset(2)"
   ]
  },
  {
   "cell_type": "code",
   "execution_count": 2,
   "id": "9bac25fb-0473-422e-91c0-941314ec2b3f",
   "metadata": {},
   "outputs": [],
   "source": [
    "from torch.utils.data import DataLoader\n",
    "vdl = DataLoader(vds,batch_size=2,shuffle=False)\n",
    "bdl = DataLoader(bds,batch_size=2,shuffle=False)"
   ]
  },
  {
   "cell_type": "code",
   "execution_count": 4,
   "id": "02266f36-01b9-4c29-be76-03e30a9b14d8",
   "metadata": {},
   "outputs": [],
   "source": [
    "for x in bdl:\n",
    "    break"
   ]
  },
  {
   "cell_type": "code",
   "execution_count": 5,
   "id": "84200e50-33b3-455e-a35a-59aebbc33dfc",
   "metadata": {},
   "outputs": [
    {
     "data": {
      "text/plain": [
       "[tensor([[[ 8.1048e-02,  2.0678e-01, -4.0037e-02,  ...,  1.0523e-01,\n",
       "            7.8978e-03, -3.1058e-01],\n",
       "          [ 2.4366e-02,  1.0363e-01, -2.3373e-01,  ...,  1.2359e-01,\n",
       "            2.3963e-01, -1.4645e-01],\n",
       "          [ 4.0950e-02,  1.4534e-01, -2.0240e-01,  ...,  1.9953e-01,\n",
       "            1.7491e-01, -2.6633e-01],\n",
       "          ...,\n",
       "          [ 1.4213e-01,  1.3845e-01, -3.0242e-02,  ...,  7.7194e-02,\n",
       "            4.0902e-01,  4.4672e-01],\n",
       "          [-2.2567e-01, -1.9410e-01, -2.1651e-01,  ..., -2.3364e-01,\n",
       "           -2.7085e-01, -3.0266e-01],\n",
       "          [-6.1136e-02, -1.1242e-01, -6.6407e-02,  ...,  3.3397e-01,\n",
       "            1.5313e-01,  3.3195e-02]],\n",
       " \n",
       "         [[-1.9721e-01, -3.7841e-01, -7.4285e-01,  ..., -4.6163e-01,\n",
       "           -3.8110e-01, -1.6230e-01],\n",
       "          [-2.7579e-01, -2.7878e-01, -2.5019e-01,  ..., -2.6486e-01,\n",
       "           -2.8006e-01, -2.4589e-01],\n",
       "          [-1.4305e-01, -2.0609e-01, -3.3737e-01,  ..., -2.9206e-01,\n",
       "           -3.3365e-01, -2.5056e-01],\n",
       "          ...,\n",
       "          [-4.8210e-01, -7.6917e-01, -5.9137e-01,  ..., -3.8854e-01,\n",
       "            2.2498e-01,  6.2281e-01],\n",
       "          [-6.3556e-02, -2.8207e-01, -6.2349e-01,  ..., -2.1899e-01,\n",
       "           -2.3010e-05,  1.5644e-01],\n",
       "          [-1.9108e-01, -1.8024e-01, -4.3526e-01,  ..., -3.9343e-01,\n",
       "           -1.4681e-02,  1.8947e-01]]], dtype=torch.float64),\n",
       " tensor([4, 3]),\n",
       " tensor([1, 1])]"
      ]
     },
     "execution_count": 5,
     "metadata": {},
     "output_type": "execute_result"
    }
   ],
   "source": [
    "x"
   ]
  },
  {
   "cell_type": "code",
   "execution_count": 6,
   "id": "e10a2ebd-aeb0-411d-ae26-6d5eaaadcd59",
   "metadata": {},
   "outputs": [
    {
     "data": {
      "text/plain": [
       "torch.Size([2, 25, 448])"
      ]
     },
     "execution_count": 6,
     "metadata": {},
     "output_type": "execute_result"
    }
   ],
   "source": [
    "x[0].shape"
   ]
  },
  {
   "cell_type": "code",
   "execution_count": 12,
   "id": "39d53d28-949e-469c-ad55-bc5e4f6429f5",
   "metadata": {},
   "outputs": [],
   "source": [
    "out = b_eegwave(x[0].float(),torch.tensor([2,3]))"
   ]
  },
  {
   "cell_type": "code",
   "execution_count": 13,
   "id": "d0763cad-42e6-4dd0-a338-3d1afd0fc235",
   "metadata": {},
   "outputs": [
    {
     "data": {
      "text/plain": [
       "tensor([[[ 0.2078,  0.2172,  0.2206,  ...,  0.2266,  0.2256,  0.2249],\n",
       "         [ 0.0774,  0.0787,  0.0769,  ...,  0.0713,  0.0735,  0.0728],\n",
       "         [ 0.0708,  0.0710,  0.0717,  ...,  0.0591,  0.0692,  0.0578],\n",
       "         ...,\n",
       "         [-0.0326, -0.0331, -0.0342,  ..., -0.0359, -0.0374, -0.0345],\n",
       "         [-0.0579, -0.0565, -0.0579,  ..., -0.0641, -0.0621, -0.0659],\n",
       "         [-0.1637, -0.1610, -0.1634,  ..., -0.1651, -0.1693, -0.1620]],\n",
       "\n",
       "        [[ 0.2019,  0.2104,  0.2122,  ...,  0.2132,  0.2148,  0.2159],\n",
       "         [ 0.0546,  0.0516,  0.0535,  ...,  0.0623,  0.0609,  0.0645],\n",
       "         [ 0.0594,  0.0578,  0.0581,  ...,  0.0513,  0.0525,  0.0474],\n",
       "         ...,\n",
       "         [-0.0427, -0.0443, -0.0386,  ..., -0.0372, -0.0361, -0.0292],\n",
       "         [-0.0742, -0.0744, -0.0705,  ..., -0.0737, -0.0714, -0.0714],\n",
       "         [-0.1636, -0.1686, -0.1667,  ..., -0.1695, -0.1679, -0.1623]]],\n",
       "       grad_fn=<SqueezeBackward1>)"
      ]
     },
     "execution_count": 13,
     "metadata": {},
     "output_type": "execute_result"
    }
   ],
   "source": [
    "out"
   ]
  },
  {
   "cell_type": "code",
   "execution_count": 14,
   "id": "14de63df-afb3-4c1e-a3ee-f13926a5e94e",
   "metadata": {},
   "outputs": [
    {
     "data": {
      "text/plain": [
       "torch.Size([2, 25, 448])"
      ]
     },
     "execution_count": 14,
     "metadata": {},
     "output_type": "execute_result"
    }
   ],
   "source": [
    "out.shape"
   ]
  },
  {
   "cell_type": "code",
   "execution_count": null,
   "id": "2cd9fe77-aae2-4055-8b39-fc115cfebddb",
   "metadata": {},
   "outputs": [],
   "source": []
  }
 ],
 "metadata": {
  "kernelspec": {
   "display_name": "Python 3 (ipykernel)",
   "language": "python",
   "name": "python3"
  },
  "language_info": {
   "codemirror_mode": {
    "name": "ipython",
    "version": 3
   },
   "file_extension": ".py",
   "mimetype": "text/x-python",
   "name": "python",
   "nbconvert_exporter": "python",
   "pygments_lexer": "ipython3",
   "version": "3.8.10"
  }
 },
 "nbformat": 4,
 "nbformat_minor": 5
}
